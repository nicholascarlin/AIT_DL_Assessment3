{
  "nbformat": 4,
  "nbformat_minor": 0,
  "metadata": {
    "kernelspec": {
      "display_name": "Python 3",
      "language": "python",
      "name": "python3"
    },
    "language_info": {
      "codemirror_mode": {
        "name": "ipython",
        "version": 3
      },
      "file_extension": ".py",
      "mimetype": "text/x-python",
      "name": "python",
      "nbconvert_exporter": "python",
      "pygments_lexer": "ipython3",
      "version": "3.6.6"
    },
    "colab": {
      "name": "Copy of AIT-Deep-learning-Assigment-3",
      "provenance": [],
      "collapsed_sections": []
    }
  },
  "cells": [
    {
      "cell_type": "markdown",
      "metadata": {
        "id": "_jiGtJu6u9ml"
      },
      "source": [
        "# Copyright\n",
        "\n",
        "<PRE>\n",
        "Copyright (c) 2021 Bálint Gyires-Tóth - All Rights Reserved\n",
        "You may use and modify this code for research and development purpuses.\n",
        "Use this code for educational purposes (self-paced or instructor led) without the permission of the author is prohibited.\n",
        "</PRE>"
      ]
    },
    {
      "cell_type": "markdown",
      "metadata": {
        "id": "oXyFC44jV-PP"
      },
      "source": [
        "# Author classification\n",
        "The task is to train a 1D CNN or an LSTM that is able to  classify text from two authors. The final model should be able to tell about a text with a given length (e.g. 60 characters) who wrote it. \n",
        "\n",
        "Please write the codes according to the following parts:"
      ]
    },
    {
      "cell_type": "markdown",
      "metadata": {
        "id": "jCnLoeGrHXsp"
      },
      "source": [
        "## Python module imports\n",
        "Import all Python modules that you would need during the Assignment."
      ]
    },
    {
      "cell_type": "code",
      "metadata": {
        "id": "7itbFGt3HXVT"
      },
      "source": [
        "import seaborn as sns\n",
        "import numpy as np\n",
        "import pandas as pd\n",
        "\n",
        "from tensorflow.keras.models import Sequential\n",
        "from tensorflow.keras.layers import LSTM\n",
        "from tensorflow.keras.optimizers import RMSprop\n",
        "from tensorflow.keras.layers import Dense, Activation, Dropout\n",
        "from sklearn.model_selection import train_test_split\n",
        "\n",
        "from tensorflow.keras.callbacks import EarlyStopping\n",
        "from sklearn.metrics import confusion_matrix"
      ],
      "execution_count": 1,
      "outputs": []
    },
    {
      "cell_type": "markdown",
      "metadata": {
        "id": "Hr617tEpHd8R"
      },
      "source": [
        "## Data acquisition\n",
        "Seek a possible dataset, you can use any source, e.g.\n",
        "* http://www.gutenberg.org/\n",
        "* https://www.kaggle.com/datasets\n",
        "* https://paperswithcode.com/datasets\n",
        "* if you would like to learn Hungarian, than e.g. https://mek.oszk.hu/\n",
        "\n",
        "You can download the text by hand (e.g. by copy-pasting some parts into txt files) or with Python. "
      ]
    },
    {
      "cell_type": "code",
      "metadata": {
        "id": "NgkdQxHqHdZB"
      },
      "source": [
        "GG_txt = ''\n",
        "PAP_txt = ''\n",
        "\n",
        "with open('GreatGatsby.txt') as f:\n",
        "    GG_txt = f.read().lower().rstrip().split()\n",
        "    GG_txt = ' '.join(GG_txt)\n",
        "\n",
        "with open('PrideAndPrejudice.txt') as f:\n",
        "    PAP_txt = f.read().lower().rstrip().split()\n",
        "    PAP_txt = ' '.join(PAP_txt)"
      ],
      "execution_count": 2,
      "outputs": []
    },
    {
      "cell_type": "markdown",
      "source": [
        "## Data analysis\n",
        "Count the number of characters from both authors and display them on a plot (e.g. Seaborn's countplot)."
      ],
      "metadata": {
        "id": "U9Pmq91t3SRD"
      }
    },
    {
      "cell_type": "code",
      "source": [
        "df_len = pd.DataFrame()\n",
        "\n",
        "df_len['Author'] = ['JaneAusten', 'FScottFitzgerald']\n",
        "df_len['Word_Count'] = [len(PAP_txt), len(GG_txt)]\n",
        "\n",
        "sns.barplot(x=\"Author\", y=\"Word_Count\", data=df_len)"
      ],
      "metadata": {
        "id": "uRqGdn4F3Spk",
        "colab": {
          "base_uri": "https://localhost:8080/",
          "height": 297
        },
        "outputId": "1732f6c4-8ba2-4627-e512-3c619197f83b"
      },
      "execution_count": 3,
      "outputs": [
        {
          "output_type": "execute_result",
          "data": {
            "text/plain": [
              "<matplotlib.axes._subplots.AxesSubplot at 0x7f78c67c7410>"
            ]
          },
          "metadata": {},
          "execution_count": 3
        },
        {
          "output_type": "display_data",
          "data": {
            "text/plain": [
              "<Figure size 432x288 with 1 Axes>"
            ],
            "image/png": "[encoded data removed]"
          },
          "metadata": {
            "needs_background": "light"
          }
        }
      ]
    },
    {
      "cell_type": "markdown",
      "metadata": {
        "id": "cHyE_ndGIblJ"
      },
      "source": [
        "## Data loading, labeling and preprocessing\n",
        "Load the data and convert the characters into one-hot encodings. Then load the data into a 3D NumPy array, with a shape of\n",
        "\n",
        "* (batch, sequence_length, alphabet_length)\n",
        "\n",
        "where sequence_length=60, and alphabet_length equals to the number of unique characters in both datasets. The sequences should be cut out from the complete dataset by sliding window. You should add 0 and 1 labels to the sequences, according to the author. \n",
        "\n",
        "Later you may change sequence_length to achieve better results!"
      ]
    },
    {
      "cell_type": "code",
      "metadata": {
        "id": "arooXt0WIb6x",
        "colab": {
          "base_uri": "https://localhost:8080/"
        },
        "outputId": "4f588bb6-9910-4a9f-e593-fadbde80e74c"
      },
      "source": [
        "sequence_length = 60\n",
        "step = 30\n",
        "\n",
        "alphabet_length_pre = sorted(list(set(GG_txt))) + sorted(list(set(PAP_txt)))\n",
        "alphabet_length = sorted(list(set(alphabet_length_pre)))\n",
        "print('Number of unique characters of the book:', len(alphabet_length))"
      ],
      "execution_count": 70,
      "outputs": [
        {
          "output_type": "stream",
          "name": "stdout",
          "text": [
            "Number of unique characters of the book: 63\n"
          ]
        }
      ]
    },
    {
      "cell_type": "code",
      "source": [
        "alphabet_length\n",
        "char_indices = dict((c, i) for i, c in enumerate(alphabet_length))\n",
        "indices_char = dict((i, c) for i, c in enumerate(alphabet_length))\n",
        "\n",
        "print (\"Indices to char dictionary:\", indices_char)\n"
      ],
      "metadata": {
        "colab": {
          "base_uri": "https://localhost:8080/"
        },
        "id": "JD3RziznRDXp",
        "outputId": "6bc69563-e6e3-4799-8fbf-523f0565e31d"
      },
      "execution_count": 71,
      "outputs": [
        {
          "output_type": "stream",
          "name": "stdout",
          "text": [
            "Indices to char dictionary: {0: ' ', 1: '!', 2: '$', 3: '&', 4: '(', 5: ')', 6: '*', 7: ',', 8: '-', 9: '.', 10: '0', 11: '1', 12: '2', 13: '3', 14: '4', 15: '5', 16: '6', 17: '7', 18: '8', 19: '9', 20: ':', 21: ';', 22: '?', 23: '[', 24: ']', 25: '_', 26: 'a', 27: 'b', 28: 'c', 29: 'd', 30: 'e', 31: 'f', 32: 'g', 33: 'h', 34: 'i', 35: 'j', 36: 'k', 37: 'l', 38: 'm', 39: 'n', 40: 'o', 41: 'p', 42: 'q', 43: 'r', 44: 's', 45: 't', 46: 'u', 47: 'v', 48: 'w', 49: 'x', 50: 'y', 51: 'z', 52: 'à', 53: 'ç', 54: 'é', 55: 'ê', 56: 'ô', 57: '—', 58: '‘', 59: '’', 60: '“', 61: '”', 62: '…'}\n"
          ]
        }
      ]
    },
    {
      "cell_type": "code",
      "source": [
        "PAP_sentences = []\n",
        "GG_sentences = []\n",
        "\n",
        "for i in range(0, len(GG_txt)-sequence_length, step):\n",
        "    GG_sentences.append(GG_txt[i:i+sequence_length])\n",
        "\n",
        "for i in range(0, len(GG_txt)-sequence_length, step):\n",
        "    PAP_sentences.append(PAP_txt[i:i+sequence_length])\n",
        "\n",
        "print('Number of gg training samples:', len(GG_sentences))\n",
        "print('Number of pap training samples:', len(PAP_sentences))\n",
        "print('Number of total training samples', len(GG_sentences + PAP_sentences))\n"
      ],
      "metadata": {
        "colab": {
          "base_uri": "https://localhost:8080/"
        },
        "id": "jZjXm-ADRlny",
        "outputId": "b0e65442-3e6c-4767-84ff-f7542cb0316e"
      },
      "execution_count": 72,
      "outputs": [
        {
          "output_type": "stream",
          "name": "stdout",
          "text": [
            "Number of gg training samples: 8928\n",
            "Number of pap training samples: 8928\n",
            "Number of total training samples 17856\n"
          ]
        }
      ]
    },
    {
      "cell_type": "code",
      "source": [
        "X = np.zeros((len(GG_sentences) + len(PAP_sentences), sequence_length, len(char_indices)))\n",
        "y = np.zeros((len(GG_sentences) + len(PAP_sentences), len(char_indices)))\n"
      ],
      "metadata": {
        "id": "PRapDqnyTEMs"
      },
      "execution_count": 73,
      "outputs": []
    },
    {
      "cell_type": "code",
      "source": [
        "sentences = GG_sentences + PAP_sentences\n",
        "\n",
        "for i, sentence in enumerate(sentences[:100]):\n",
        "    for t, char in enumerate(sentence):\n",
        "        X[i,t,char_indices[char]] = 1\n",
        "    if i < 8928:\n",
        "      y[i,1] = 1\n",
        "      "
      ],
      "metadata": {
        "id": "31OCjpiOS5x2"
      },
      "execution_count": 74,
      "outputs": []
    },
    {
      "cell_type": "code",
      "source": [
        "for i in y[:2]:\n",
        "  print(i)"
      ],
      "metadata": {
        "colab": {
          "base_uri": "https://localhost:8080/"
        },
        "id": "FHONR0SaQAAF",
        "outputId": "2cabb8a8-75d7-4f5a-b1b1-317f8a937113"
      },
      "execution_count": 75,
      "outputs": [
        {
          "output_type": "stream",
          "name": "stdout",
          "text": [
            "[0. 1. 0. 0. 0. 0. 0. 0. 0. 0. 0. 0. 0. 0. 0. 0. 0. 0. 0. 0. 0. 0. 0. 0.\n",
            " 0. 0. 0. 0. 0. 0. 0. 0. 0. 0. 0. 0. 0. 0. 0. 0. 0. 0. 0. 0. 0. 0. 0. 0.\n",
            " 0. 0. 0. 0. 0. 0. 0. 0. 0. 0. 0. 0. 0. 0. 0.]\n",
            "[0. 1. 0. 0. 0. 0. 0. 0. 0. 0. 0. 0. 0. 0. 0. 0. 0. 0. 0. 0. 0. 0. 0. 0.\n",
            " 0. 0. 0. 0. 0. 0. 0. 0. 0. 0. 0. 0. 0. 0. 0. 0. 0. 0. 0. 0. 0. 0. 0. 0.\n",
            " 0. 0. 0. 0. 0. 0. 0. 0. 0. 0. 0. 0. 0. 0. 0.]\n"
          ]
        }
      ]
    },
    {
      "cell_type": "code",
      "source": [
        "print (\"Shape of the input data:\", X.shape)\n",
        "print (\"Shape of the target data:\", y.shape)"
      ],
      "metadata": {
        "colab": {
          "base_uri": "https://localhost:8080/"
        },
        "id": "3xwWXkt0SofJ",
        "outputId": "4b27b07f-dbbf-4fb1-b1b3-33476b6da48a"
      },
      "execution_count": 76,
      "outputs": [
        {
          "output_type": "stream",
          "name": "stdout",
          "text": [
            "Shape of the input data: (17856, 60, 63)\n",
            "Shape of the target data: (17856, 63)\n"
          ]
        }
      ]
    },
    {
      "cell_type": "markdown",
      "metadata": {
        "id": "lL1Mc8ibHnep"
      },
      "source": [
        "## Data splitting\n",
        "Split the data into train, validate and test sets."
      ]
    },
    {
      "cell_type": "code",
      "metadata": {
        "id": "ELyG9XFUHrkB"
      },
      "source": [
        "X_train, X_test, y_train, y_test = train_test_split(X, y, test_size=0.33, random_state=42)"
      ],
      "execution_count": 77,
      "outputs": []
    },
    {
      "cell_type": "markdown",
      "metadata": {
        "id": "hA8U9tr7HrNQ"
      },
      "source": [
        "## Model definition\n",
        "Define a 1D CNN or an LSTM for the task. Compile the model with the correct loss function."
      ]
    },
    {
      "cell_type": "code",
      "metadata": {
        "id": "BT1V1s4kHuUe",
        "colab": {
          "base_uri": "https://localhost:8080/"
        },
        "outputId": "899ad7da-afa6-41a9-ad1d-97240f60b676"
      },
      "source": [
        "model = Sequential()\n",
        "model.add(LSTM(64, input_shape=(X_train.shape[1],X_train.shape[2],)))\n",
        "model.add(Dense(len(alphabet_length)))\n",
        "model.add(Activation('softmax'))\n",
        "optimizer = RMSprop(lr=0.01)\n",
        "model.compile(loss='categorical_crossentropy', optimizer=optimizer)\n"
      ],
      "execution_count": 78,
      "outputs": [
        {
          "output_type": "stream",
          "name": "stderr",
          "text": [
            "/usr/local/lib/python3.7/dist-packages/keras/optimizer_v2/rmsprop.py:130: UserWarning: The `lr` argument is deprecated, use `learning_rate` instead.\n",
            "  super(RMSprop, self).__init__(name, **kwargs)\n"
          ]
        }
      ]
    },
    {
      "cell_type": "markdown",
      "metadata": {
        "id": "hWFb-nAMHuAI"
      },
      "source": [
        "## Model training\n",
        "Train the model and apply early stopping."
      ]
    },
    {
      "cell_type": "code",
      "metadata": {
        "id": "dvgKjqp3Hwkp",
        "colab": {
          "base_uri": "https://localhost:8080/"
        },
        "outputId": "8f9200c2-db57-4bb2-807b-dd0841c3dfb9"
      },
      "source": [
        "batch_size = 128\n",
        "epochs = 5\n",
        "\n",
        "es = EarlyStopping(patience=10, restore_best_weights=True, monitor='val_loss')\n",
        "\n",
        "model.fit(X_train, y_train,\n",
        "          batch_size=batch_size,\n",
        "          epochs=epochs,\n",
        "          validation_split=0.2,\n",
        "          callbacks=[es])"
      ],
      "execution_count": 79,
      "outputs": [
        {
          "output_type": "stream",
          "name": "stdout",
          "text": [
            "Epoch 1/5\n",
            "75/75 [==============================] - 9s 87ms/step - loss: 0.0083 - val_loss: 0.0069\n",
            "Epoch 2/5\n",
            "75/75 [==============================] - 6s 79ms/step - loss: 0.0076 - val_loss: 0.0068\n",
            "Epoch 3/5\n",
            "75/75 [==============================] - 6s 78ms/step - loss: 0.0075 - val_loss: 0.0068\n",
            "Epoch 4/5\n",
            "75/75 [==============================] - 6s 80ms/step - loss: 0.0076 - val_loss: 0.0069\n",
            "Epoch 5/5\n",
            "75/75 [==============================] - 6s 79ms/step - loss: 0.0075 - val_loss: 0.0069\n"
          ]
        },
        {
          "output_type": "execute_result",
          "data": {
            "text/plain": [
              "<keras.callbacks.History at 0x7f783b9f7c10>"
            ]
          },
          "metadata": {},
          "execution_count": 79
        }
      ]
    },
    {
      "cell_type": "markdown",
      "metadata": {
        "id": "0omw2XzSHwOo"
      },
      "source": [
        "## Evaluation on test data\n",
        "Evaluate the model on the test data in terms of loss and accuracy."
      ]
    },
    {
      "cell_type": "code",
      "metadata": {
        "id": "4bF3dQA1Hv_R",
        "colab": {
          "base_uri": "https://localhost:8080/"
        },
        "outputId": "83ce445d-3003-499b-931c-af82795a76f1"
      },
      "source": [
        "model.evaluate(X_test, y_test)"
      ],
      "execution_count": 63,
      "outputs": [
        {
          "output_type": "stream",
          "name": "stdout",
          "text": [
            "185/185 [==============================] - 2s 11ms/step - loss: 0.0092\n"
          ]
        },
        {
          "output_type": "execute_result",
          "data": {
            "text/plain": [
              "0.009195121936500072"
            ]
          },
          "metadata": {},
          "execution_count": 63
        }
      ]
    },
    {
      "cell_type": "markdown",
      "metadata": {
        "id": "4Y73Q-h5Hz1r"
      },
      "source": [
        "## Confusion matrix\n",
        "Calculate and display the confusion matrix."
      ]
    },
    {
      "cell_type": "code",
      "metadata": {
        "id": "cW8zZi1uJm2B",
        "colab": {
          "base_uri": "https://localhost:8080/",
          "height": 297
        },
        "outputId": "19f94b4b-abda-4455-ad89-0a9701779fd6"
      },
      "source": [
        "preds = model.predict(X_test)\n",
        "y_pred = np.round(preds)\n",
        "\n",
        "conf = confusion_matrix(y_test.argmax(axis=1), preds.argmax(axis=1))\n",
        "ax = sns.heatmap(conf, annot=True, fmt='d', cmap='Blues')\n",
        "ax.set(xlabel='Predicted Label', ylabel='True Label')"
      ],
      "execution_count": 69,
      "outputs": [
        {
          "output_type": "execute_result",
          "data": {
            "text/plain": [
              "[Text(33.0, 0.5, 'True Label'), Text(0.5, 15.0, 'Predicted Label')]"
            ]
          },
          "metadata": {},
          "execution_count": 69
        },
        {
          "output_type": "display_data",
          "data": {
            "text/plain": [
              "<Figure size 432x288 with 2 Axes>"
            ],
            "image/png": "[encoded data removed]"
          },
          "metadata": {
            "needs_background": "light"
          }
        }
      ]
    },
    {
      "cell_type": "code",
      "source": [
        ""
      ],
      "metadata": {
        "id": "x9Fj9uny0N6m"
      },
      "execution_count": null,
      "outputs": []
    }
  ]
}